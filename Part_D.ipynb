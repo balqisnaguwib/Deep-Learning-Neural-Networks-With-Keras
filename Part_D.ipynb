{
  "nbformat": 4,
  "nbformat_minor": 0,
  "metadata": {
    "colab": {
      "provenance": [],
      "authorship_tag": "ABX9TyNzDgx71iA8vxuH5g0RJlfc",
      "include_colab_link": true
    },
    "kernelspec": {
      "name": "python3",
      "display_name": "Python 3"
    },
    "language_info": {
      "name": "python"
    }
  },
  "cells": [
    {
      "cell_type": "markdown",
      "metadata": {
        "id": "view-in-github",
        "colab_type": "text"
      },
      "source": [
        "<a href=\"https://colab.research.google.com/github/balqisnaguwib/Deep-Learning-Neural-Networks-With-Keras/blob/main/Part_D.ipynb\" target=\"_parent\"><img src=\"https://colab.research.google.com/assets/colab-badge.svg\" alt=\"Open In Colab\"/></a>"
      ]
    },
    {
      "cell_type": "code",
      "execution_count": 1,
      "metadata": {
        "colab": {
          "base_uri": "https://localhost:8080/"
        },
        "id": "DdoiQajyduBS",
        "outputId": "e15c6889-55d5-45bc-d17f-fe959c8604b6"
      },
      "outputs": [
        {
          "output_type": "stream",
          "name": "stdout",
          "text": [
            "10/10 [==============================] - 0s 2ms/step\n",
            "10/10 [==============================] - 0s 2ms/step\n",
            "10/10 [==============================] - 0s 2ms/step\n",
            "10/10 [==============================] - 0s 2ms/step\n",
            "10/10 [==============================] - 0s 2ms/step\n",
            "10/10 [==============================] - 0s 2ms/step\n",
            "10/10 [==============================] - 0s 3ms/step\n",
            "10/10 [==============================] - 0s 2ms/step\n",
            "10/10 [==============================] - 0s 2ms/step\n",
            "10/10 [==============================] - 0s 2ms/step\n",
            "10/10 [==============================] - 0s 2ms/step\n",
            "10/10 [==============================] - 0s 2ms/step\n",
            "10/10 [==============================] - 0s 2ms/step\n",
            "10/10 [==============================] - 0s 3ms/step\n",
            "10/10 [==============================] - 0s 2ms/step\n",
            "10/10 [==============================] - 0s 2ms/step\n",
            "10/10 [==============================] - 0s 2ms/step\n",
            "10/10 [==============================] - 0s 2ms/step\n",
            "10/10 [==============================] - 0s 2ms/step\n",
            "10/10 [==============================] - 0s 2ms/step\n",
            "10/10 [==============================] - 0s 2ms/step\n",
            "10/10 [==============================] - 0s 2ms/step\n",
            "10/10 [==============================] - 0s 2ms/step\n",
            "10/10 [==============================] - 0s 2ms/step\n",
            "10/10 [==============================] - 0s 2ms/step\n",
            "10/10 [==============================] - 0s 2ms/step\n",
            "10/10 [==============================] - 0s 2ms/step\n",
            "10/10 [==============================] - 0s 2ms/step\n",
            "10/10 [==============================] - 0s 2ms/step\n",
            "10/10 [==============================] - 0s 2ms/step\n",
            "10/10 [==============================] - 0s 3ms/step\n",
            "10/10 [==============================] - 0s 2ms/step\n",
            "10/10 [==============================] - 0s 2ms/step\n",
            "10/10 [==============================] - 0s 2ms/step\n",
            "10/10 [==============================] - 0s 2ms/step\n",
            "10/10 [==============================] - 0s 2ms/step\n",
            "10/10 [==============================] - 0s 2ms/step\n",
            "10/10 [==============================] - 0s 2ms/step\n",
            "10/10 [==============================] - 0s 2ms/step\n",
            "10/10 [==============================] - 0s 3ms/step\n",
            "10/10 [==============================] - 0s 2ms/step\n",
            "10/10 [==============================] - 0s 2ms/step\n",
            "10/10 [==============================] - 0s 2ms/step\n",
            "10/10 [==============================] - 0s 2ms/step\n",
            "10/10 [==============================] - 0s 2ms/step\n",
            "10/10 [==============================] - 0s 3ms/step\n",
            "10/10 [==============================] - 0s 3ms/step\n",
            "10/10 [==============================] - 0s 2ms/step\n",
            "10/10 [==============================] - 0s 2ms/step\n",
            "10/10 [==============================] - 0s 3ms/step\n",
            "Mean Squared Error (Deeper Model): 126.42633394893689\n",
            "Standard Deviation of Mean Squared Errors (Deeper Model): 9.880728527388507\n"
          ]
        }
      ],
      "source": [
        "import numpy as np\n",
        "import pandas as pd\n",
        "from sklearn.model_selection import train_test_split\n",
        "from sklearn.preprocessing import StandardScaler\n",
        "from sklearn.metrics import mean_squared_error\n",
        "from keras.models import Sequential\n",
        "from keras.layers import Dense\n",
        "from keras.optimizers import Adam\n",
        "\n",
        "# Load the concrete data\n",
        "concrete_data = pd.read_csv(\"https://cocl.us/concrete_data\")\n",
        "\n",
        "# Define predictors and target variable\n",
        "predictors = concrete_data.drop('Strength', axis=1)\n",
        "target = concrete_data['Strength']\n",
        "\n",
        "# Normalize the predictors\n",
        "scaler = StandardScaler()\n",
        "predictors_normalized = scaler.fit_transform(predictors)\n",
        "\n",
        "# Number of predictors\n",
        "n_cols = predictors_normalized.shape[1]\n",
        "\n",
        "# Function to build the neural network with three hidden layers\n",
        "def deeper_model():\n",
        "    model = Sequential()\n",
        "    model.add(Dense(10, activation='relu', input_shape=(n_cols,)))\n",
        "    model.add(Dense(10, activation='relu'))\n",
        "    model.add(Dense(10, activation='relu'))\n",
        "    model.add(Dense(1))\n",
        "    model.compile(optimizer='adam', loss='mean_squared_error')\n",
        "    return model\n",
        "\n",
        "# Initialize an empty list to store mean squared errors\n",
        "mse_list_deeper_model = []\n",
        "\n",
        "# Repeat steps 1 - 3, 50 times with the deeper model\n",
        "for _ in range(50):\n",
        "    # Split the normalized data into training and test sets\n",
        "    X_train, X_test, y_train, y_test = train_test_split(predictors_normalized, target, test_size=0.3, random_state=42)\n",
        "\n",
        "    # Build and train the deeper model\n",
        "    model = deeper_model()\n",
        "    model.fit(X_train, y_train, epochs=50, verbose=0)\n",
        "\n",
        "    # Predict on the test data\n",
        "    y_pred = model.predict(X_test)\n",
        "\n",
        "    # Calculate mean squared error and append to the list\n",
        "    mse_list_deeper_model.append(mean_squared_error(y_test, y_pred))\n",
        "\n",
        "# Report the mean and standard deviation of mean squared errors for the deeper model\n",
        "mean_mse_deeper_model = np.mean(mse_list_deeper_model)\n",
        "std_mse_deeper_model = np.std(mse_list_deeper_model)\n",
        "\n",
        "print(f\"Mean Squared Error (Deeper Model): {mean_mse_deeper_model}\")\n",
        "print(f\"Standard Deviation of Mean Squared Errors (Deeper Model): {std_mse_deeper_model}\")\n"
      ]
    }
  ]
}